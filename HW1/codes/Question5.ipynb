{
 "cells": [
  {
   "cell_type": "code",
   "execution_count": 2,
   "metadata": {},
   "outputs": [],
   "source": [
    "import matplotlib.pyplot as plt\n",
    "import numpy as np\n",
    "from BP_reward import get_reward\n",
    "import math\n",
    "from scipy.stats import t"
   ]
  },
  {
   "cell_type": "code",
   "execution_count": 9,
   "metadata": {},
   "outputs": [],
   "source": [
    "action=1\n",
    "one_rewards = []\n",
    "for i in range(100):\n",
    "    reward = get_reward(action,id)\n",
    "    one_rewards.append(reward)\n",
    "one_rewards = np.array(one_rewards)\n",
    "action=2\n",
    "two_rewards=[]\n",
    "for i in range(100):\n",
    "    reward = get_reward(action,id)\n",
    "    two_rewards.append(reward)\n",
    "two_rewards=np.array(two_rewards)"
   ]
  },
  {
   "cell_type": "code",
   "execution_count": 23,
   "metadata": {},
   "outputs": [],
   "source": [
    "mu_1=one_rewards.mean()\n",
    "mu_2=two_rewards.mean()\n",
    "std_1=one_rewards.std()\n",
    "std_2=two_rewards.std()"
   ]
  },
  {
   "cell_type": "code",
   "execution_count": 24,
   "metadata": {},
   "outputs": [],
   "source": [
    "df = 99"
   ]
  },
  {
   "cell_type": "code",
   "execution_count": 28,
   "metadata": {},
   "outputs": [
    {
     "name": "stdout",
     "output_type": "stream",
     "text": [
      "P Value is: 1.2478330233722415e-12\n"
     ]
    }
   ],
   "source": [
    "SE = math.sqrt(((std_1**2)/100)+((std_2**2)/100))\n",
    "T_score = (mu_1-mu_2 - 0 )/SE\n",
    "p_value = t.sf(abs(T_score), df=99)\n",
    "print(f'P Value is: {p_value}')"
   ]
  },
  {
   "cell_type": "code",
   "execution_count": 32,
   "metadata": {},
   "outputs": [
    {
     "name": "stdout",
     "output_type": "stream",
     "text": [
      "Confidence Interval is between 2.346434451342116 and 3.577065862011141\n"
     ]
    }
   ],
   "source": [
    "t_crit = np.abs(t.ppf((0.05),df))\n",
    "print(f'Confidence Interval is between {(mu_1 - mu_2) - t_crit*SE} and {(mu_1 - mu_2) + t_crit*SE}')"
   ]
  }
 ],
 "metadata": {
  "kernelspec": {
   "display_name": "Python 3.9.7 ('base')",
   "language": "python",
   "name": "python3"
  },
  "language_info": {
   "codemirror_mode": {
    "name": "ipython",
    "version": 3
   },
   "file_extension": ".py",
   "mimetype": "text/x-python",
   "name": "python",
   "nbconvert_exporter": "python",
   "pygments_lexer": "ipython3",
   "version": "3.9.7"
  },
  "orig_nbformat": 4,
  "vscode": {
   "interpreter": {
    "hash": "04f0bed4c73854add390228b6fbf944ef2ad479ba1100a9872fb0d03d809ad83"
   }
  }
 },
 "nbformat": 4,
 "nbformat_minor": 2
}
